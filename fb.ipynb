{
 "cells": [
  {
   "cell_type": "code",
   "execution_count": 1,
   "metadata": {},
   "outputs": [],
   "source": [
    "import pandas as pd\n",
    "import numpy as np\n",
    "import random\n",
    "import networkx as nx\n",
    "from tqdm import tqdm\n",
    "import re\n",
    "import matplotlib.pyplot as plt\n",
    "\n",
    "from sklearn.linear_model import LogisticRegression\n",
    "from sklearn.metrics import classification_report, roc_auc_score\n",
    "from sklearn.model_selection import train_test_split\n",
    "from sklearn.metrics import confusion_matrix"
   ]
  },
  {
   "cell_type": "code",
   "execution_count": 2,
   "metadata": {},
   "outputs": [
    {
     "name": "stdout",
     "output_type": "stream",
     "text": [
      "<Graph database=<Database uri='bolt://localhost:7687' secure=False user_agent='py2neo/4.1.3 neo4j-python/1.6.3 Python/3.6.9-final-0 (win32)'> name='data'>\n"
     ]
    }
   ],
   "source": [
    "from py2neo import Graph\n",
    "graph = Graph(\"bolt://localhost\", auth=(\"neo4j\", \"sjsu123\"))\n",
    "print(graph)"
   ]
  },
  {
   "cell_type": "code",
   "execution_count": 3,
   "metadata": {},
   "outputs": [
    {
     "name": "stdout",
     "output_type": "stream",
     "text": [
      "len 2102\n"
     ]
    },
    {
     "data": {
      "text/html": [
       "<div>\n",
       "<style scoped>\n",
       "    .dataframe tbody tr th:only-of-type {\n",
       "        vertical-align: middle;\n",
       "    }\n",
       "\n",
       "    .dataframe tbody tr th {\n",
       "        vertical-align: top;\n",
       "    }\n",
       "\n",
       "    .dataframe thead th {\n",
       "        text-align: right;\n",
       "    }\n",
       "</style>\n",
       "<table border=\"1\" class=\"dataframe\">\n",
       "  <thead>\n",
       "    <tr style=\"text-align: right;\">\n",
       "      <th></th>\n",
       "      <th>node1</th>\n",
       "      <th>node2</th>\n",
       "      <th>label</th>\n",
       "    </tr>\n",
       "  </thead>\n",
       "  <tbody>\n",
       "    <tr>\n",
       "      <th>1133</th>\n",
       "      <td>34</td>\n",
       "      <td>345</td>\n",
       "      <td>1</td>\n",
       "    </tr>\n",
       "    <tr>\n",
       "      <th>1908</th>\n",
       "      <td>401</td>\n",
       "      <td>556</td>\n",
       "      <td>1</td>\n",
       "    </tr>\n",
       "    <tr>\n",
       "      <th>1238</th>\n",
       "      <td>74</td>\n",
       "      <td>382</td>\n",
       "      <td>1</td>\n",
       "    </tr>\n",
       "    <tr>\n",
       "      <th>1548</th>\n",
       "      <td>600</td>\n",
       "      <td>466</td>\n",
       "      <td>1</td>\n",
       "    </tr>\n",
       "    <tr>\n",
       "      <th>1322</th>\n",
       "      <td>371</td>\n",
       "      <td>403</td>\n",
       "      <td>1</td>\n",
       "    </tr>\n",
       "  </tbody>\n",
       "</table>\n",
       "</div>"
      ],
      "text/plain": [
       "      node1  node2  label\n",
       "1133     34    345      1\n",
       "1908    401    556      1\n",
       "1238     74    382      1\n",
       "1548    600    466      1\n",
       "1322    371    403      1"
      ]
     },
     "execution_count": 3,
     "metadata": {},
     "output_type": "execute_result"
    }
   ],
   "source": [
    "# positive samples\n",
    "train_positive = graph.run(\"\"\"\n",
    "MATCH (u1:user)-[:FOLLOWS]->(u2:user)\n",
    "RETURN id(u1) AS node1, id(u2) AS node2, 1 AS label\n",
    "\"\"\").to_data_frame()\n",
    "print(\"len\", len(train_positive))\n",
    "train_positive.sample(5)"
   ]
  },
  {
   "cell_type": "code",
   "execution_count": 4,
   "metadata": {},
   "outputs": [
    {
     "name": "stdout",
     "output_type": "stream",
     "text": [
      "len 380207\n"
     ]
    },
    {
     "data": {
      "text/html": [
       "<div>\n",
       "<style scoped>\n",
       "    .dataframe tbody tr th:only-of-type {\n",
       "        vertical-align: middle;\n",
       "    }\n",
       "\n",
       "    .dataframe tbody tr th {\n",
       "        vertical-align: top;\n",
       "    }\n",
       "\n",
       "    .dataframe thead th {\n",
       "        text-align: right;\n",
       "    }\n",
       "</style>\n",
       "<table border=\"1\" class=\"dataframe\">\n",
       "  <thead>\n",
       "    <tr style=\"text-align: right;\">\n",
       "      <th></th>\n",
       "      <th>node1</th>\n",
       "      <th>node2</th>\n",
       "      <th>label</th>\n",
       "    </tr>\n",
       "  </thead>\n",
       "  <tbody>\n",
       "    <tr>\n",
       "      <th>231541</th>\n",
       "      <td>377</td>\n",
       "      <td>329</td>\n",
       "      <td>0</td>\n",
       "    </tr>\n",
       "    <tr>\n",
       "      <th>368684</th>\n",
       "      <td>601</td>\n",
       "      <td>127</td>\n",
       "      <td>0</td>\n",
       "    </tr>\n",
       "    <tr>\n",
       "      <th>22206</th>\n",
       "      <td>36</td>\n",
       "      <td>120</td>\n",
       "      <td>0</td>\n",
       "    </tr>\n",
       "    <tr>\n",
       "      <th>310278</th>\n",
       "      <td>505</td>\n",
       "      <td>510</td>\n",
       "      <td>0</td>\n",
       "    </tr>\n",
       "    <tr>\n",
       "      <th>120149</th>\n",
       "      <td>195</td>\n",
       "      <td>501</td>\n",
       "      <td>0</td>\n",
       "    </tr>\n",
       "  </tbody>\n",
       "</table>\n",
       "</div>"
      ],
      "text/plain": [
       "        node1  node2  label\n",
       "231541    377    329      0\n",
       "368684    601    127      0\n",
       "22206      36    120      0\n",
       "310278    505    510      0\n",
       "120149    195    501      0"
      ]
     },
     "execution_count": 4,
     "metadata": {},
     "output_type": "execute_result"
    }
   ],
   "source": [
    "# negative samples\n",
    "train_negative = graph.run(\"\"\"\n",
    "MATCH (u1:user), (u2:user) WHERE NOT (u1)-[:FOLLOWS]-(u2)\n",
    "RETURN id(u1) AS node1, id(u2) AS node2, 0 AS label\n",
    "\"\"\").to_data_frame()\n",
    "\n",
    "# 381,678\n",
    "print(\"len\", len(train_negative))\n",
    "train_negative = train_negative.sample(2102)\n",
    "train_negative.sample(5)"
   ]
  },
  {
   "cell_type": "code",
   "execution_count": 5,
   "metadata": {},
   "outputs": [
    {
     "name": "stdout",
     "output_type": "stream",
     "text": [
      "len 4204\n"
     ]
    },
    {
     "data": {
      "text/html": [
       "<div>\n",
       "<style scoped>\n",
       "    .dataframe tbody tr th:only-of-type {\n",
       "        vertical-align: middle;\n",
       "    }\n",
       "\n",
       "    .dataframe tbody tr th {\n",
       "        vertical-align: top;\n",
       "    }\n",
       "\n",
       "    .dataframe thead th {\n",
       "        text-align: right;\n",
       "    }\n",
       "</style>\n",
       "<table border=\"1\" class=\"dataframe\">\n",
       "  <thead>\n",
       "    <tr style=\"text-align: right;\">\n",
       "      <th></th>\n",
       "      <th>node1</th>\n",
       "      <th>node2</th>\n",
       "      <th>label</th>\n",
       "    </tr>\n",
       "  </thead>\n",
       "  <tbody>\n",
       "    <tr>\n",
       "      <th>3865</th>\n",
       "      <td>613</td>\n",
       "      <td>515</td>\n",
       "      <td>1</td>\n",
       "    </tr>\n",
       "    <tr>\n",
       "      <th>870</th>\n",
       "      <td>542</td>\n",
       "      <td>27</td>\n",
       "      <td>0</td>\n",
       "    </tr>\n",
       "    <tr>\n",
       "      <th>3417</th>\n",
       "      <td>199</td>\n",
       "      <td>402</td>\n",
       "      <td>1</td>\n",
       "    </tr>\n",
       "    <tr>\n",
       "      <th>3977</th>\n",
       "      <td>91</td>\n",
       "      <td>546</td>\n",
       "      <td>1</td>\n",
       "    </tr>\n",
       "    <tr>\n",
       "      <th>1588</th>\n",
       "      <td>58</td>\n",
       "      <td>116</td>\n",
       "      <td>0</td>\n",
       "    </tr>\n",
       "    <tr>\n",
       "      <th>1038</th>\n",
       "      <td>212</td>\n",
       "      <td>553</td>\n",
       "      <td>0</td>\n",
       "    </tr>\n",
       "    <tr>\n",
       "      <th>2694</th>\n",
       "      <td>191</td>\n",
       "      <td>182</td>\n",
       "      <td>1</td>\n",
       "    </tr>\n",
       "    <tr>\n",
       "      <th>2596</th>\n",
       "      <td>377</td>\n",
       "      <td>164</td>\n",
       "      <td>1</td>\n",
       "    </tr>\n",
       "    <tr>\n",
       "      <th>2343</th>\n",
       "      <td>585</td>\n",
       "      <td>65</td>\n",
       "      <td>1</td>\n",
       "    </tr>\n",
       "    <tr>\n",
       "      <th>2541</th>\n",
       "      <td>276</td>\n",
       "      <td>146</td>\n",
       "      <td>1</td>\n",
       "    </tr>\n",
       "  </tbody>\n",
       "</table>\n",
       "</div>"
      ],
      "text/plain": [
       "      node1  node2  label\n",
       "3865    613    515      1\n",
       "870     542     27      0\n",
       "3417    199    402      1\n",
       "3977     91    546      1\n",
       "1588     58    116      0\n",
       "1038    212    553      0\n",
       "2694    191    182      1\n",
       "2596    377    164      1\n",
       "2343    585     65      1\n",
       "2541    276    146      1"
      ]
     },
     "execution_count": 5,
     "metadata": {},
     "output_type": "execute_result"
    }
   ],
   "source": [
    "training_df = train_negative.append(train_positive, ignore_index=True)\n",
    "print(\"len\", len(training_df))\n",
    "training_df.sample(10)"
   ]
  },
  {
   "cell_type": "code",
   "execution_count": 6,
   "metadata": {},
   "outputs": [
    {
     "name": "stdout",
     "output_type": "stream",
     "text": [
      "len 20501\n"
     ]
    },
    {
     "data": {
      "text/html": [
       "<div>\n",
       "<style scoped>\n",
       "    .dataframe tbody tr th:only-of-type {\n",
       "        vertical-align: middle;\n",
       "    }\n",
       "\n",
       "    .dataframe tbody tr th {\n",
       "        vertical-align: top;\n",
       "    }\n",
       "\n",
       "    .dataframe thead th {\n",
       "        text-align: right;\n",
       "    }\n",
       "</style>\n",
       "<table border=\"1\" class=\"dataframe\">\n",
       "  <thead>\n",
       "    <tr style=\"text-align: right;\">\n",
       "      <th></th>\n",
       "      <th>node1</th>\n",
       "      <th>node2</th>\n",
       "      <th>label</th>\n",
       "    </tr>\n",
       "  </thead>\n",
       "  <tbody>\n",
       "    <tr>\n",
       "      <th>13485</th>\n",
       "      <td>390</td>\n",
       "      <td>438</td>\n",
       "      <td>0</td>\n",
       "    </tr>\n",
       "    <tr>\n",
       "      <th>2012</th>\n",
       "      <td>517</td>\n",
       "      <td>65</td>\n",
       "      <td>0</td>\n",
       "    </tr>\n",
       "    <tr>\n",
       "      <th>714</th>\n",
       "      <td>478</td>\n",
       "      <td>27</td>\n",
       "      <td>0</td>\n",
       "    </tr>\n",
       "    <tr>\n",
       "      <th>8909</th>\n",
       "      <td>103</td>\n",
       "      <td>281</td>\n",
       "      <td>0</td>\n",
       "    </tr>\n",
       "    <tr>\n",
       "      <th>8930</th>\n",
       "      <td>105</td>\n",
       "      <td>282</td>\n",
       "      <td>0</td>\n",
       "    </tr>\n",
       "  </tbody>\n",
       "</table>\n",
       "</div>"
      ],
      "text/plain": [
       "       node1  node2 label\n",
       "13485    390    438     0\n",
       "2012     517     65     0\n",
       "714      478     27     0\n",
       "8909     103    281     0\n",
       "8930     105    282     0"
      ]
     },
     "execution_count": 6,
     "metadata": {},
     "output_type": "execute_result"
    }
   ],
   "source": [
    "train_all = graph.run(\"\"\"\n",
    "MATCH (u1:user)-[r:TRAIN]->(u2:user)\n",
    "RETURN id(u1) AS node1, id(u2) AS node2, r.flag AS label\n",
    "\"\"\").to_data_frame()\n",
    "print(\"len\", len(train_all))\n",
    "train_all.sample(5)"
   ]
  },
  {
   "cell_type": "code",
   "execution_count": 7,
   "metadata": {},
   "outputs": [],
   "source": [
    "from node2vec import Node2Vec"
   ]
  },
  {
   "cell_type": "code",
   "execution_count": 8,
   "metadata": {},
   "outputs": [
    {
     "name": "stdout",
     "output_type": "stream",
     "text": [
      "len 619\n"
     ]
    }
   ],
   "source": [
    "train_data = graph.run(\"\"\"\n",
    "MATCH (u1:user)-[r:TRAINVEC]->(u2:user)\n",
    "RETURN id(u1) AS node1, id(u2) AS node2\n",
    "\"\"\").to_data_frame()\n",
    "print(\"len\", len(train_data))\n",
    "\n",
    "train_data = nx.from_pandas_edgelist(train_data, \"node1\", \"node2\", create_using=nx.Graph())\n"
   ]
  },
  {
   "cell_type": "code",
   "execution_count": 9,
   "metadata": {},
   "outputs": [
    {
     "name": "stderr",
     "output_type": "stream",
     "text": [
      "Computing transition probabilities: 100%|█████████████████████████████████████████| 620/620 [00:00<00:00, 22199.09it/s]\n",
      "Generating walks (CPU: 1): 100%|███████████████████████████████████████████████████████| 50/50 [00:14<00:00,  3.47it/s]\n",
      "c:\\users\\baixi\\appdata\\local\\programs\\python\\python36\\envs\\cs297\\lib\\site-packages\\ipykernel_launcher.py:6: DeprecationWarning: Call to deprecated `__getitem__` (Method will be removed in 4.0.0, use self.wv.__getitem__() instead).\n",
      "  \n"
     ]
    }
   ],
   "source": [
    "node2vec = Node2Vec(train_data, dimensions=100, walk_length=16, num_walks=50)\n",
    "\n",
    "# train node2vec model\n",
    "n2w_model = node2vec.fit(window=7, min_count=1)\n",
    "\n",
    "x = [(n2w_model[str(i)]+n2w_model[str(j)]) for i,j in zip(train_all['node1'], train_all['node2'])]\n"
   ]
  },
  {
   "cell_type": "code",
   "execution_count": 10,
   "metadata": {},
   "outputs": [
    {
     "name": "stdout",
     "output_type": "stream",
     "text": [
      "xtrain 14350\n",
      "xtest 6151\n"
     ]
    },
    {
     "name": "stderr",
     "output_type": "stream",
     "text": [
      "c:\\users\\baixi\\appdata\\local\\programs\\python\\python36\\envs\\cs297\\lib\\site-packages\\sklearn\\linear_model\\_logistic.py:940: ConvergenceWarning: lbfgs failed to converge (status=1):\n",
      "STOP: TOTAL NO. of ITERATIONS REACHED LIMIT.\n",
      "\n",
      "Increase the number of iterations (max_iter) or scale the data as shown in:\n",
      "    https://scikit-learn.org/stable/modules/preprocessing.html\n",
      "Please also refer to the documentation for alternative solver options:\n",
      "    https://scikit-learn.org/stable/modules/linear_model.html#logistic-regression\n",
      "  extra_warning_msg=_LOGISTIC_SOLVER_CONVERGENCE_MSG)\n"
     ]
    },
    {
     "data": {
      "text/plain": [
       "0.8176922210693114"
      ]
     },
     "execution_count": 10,
     "metadata": {},
     "output_type": "execute_result"
    }
   ],
   "source": [
    "from sklearn.model_selection import train_test_split\n",
    "xtrain, xtest, ytrain, ytest = train_test_split(np.array(x), train_all['label'], \n",
    "                                                test_size = 0.3, \n",
    "                                                random_state = 35)\n",
    "lr = LogisticRegression(class_weight=\"balanced\")\n",
    "print(\"xtrain\", len(xtrain))\n",
    "print(\"xtest\", len(xtest))\n",
    "lr.fit(xtrain, ytrain)\n",
    "predictions = lr.predict_proba(xtest)\n",
    "roc_auc_score(ytest, predictions[:,1])"
   ]
  },
  {
   "cell_type": "code",
   "execution_count": 11,
   "metadata": {},
   "outputs": [
    {
     "data": {
      "text/plain": [
       "0.8495149730942786"
      ]
     },
     "execution_count": 11,
     "metadata": {},
     "output_type": "execute_result"
    }
   ],
   "source": [
    "from sklearn.ensemble import RandomForestClassifier\n",
    "classifier = RandomForestClassifier(n_estimators=30, max_depth=10, \n",
    "                                    random_state=0)\n",
    "classifier.fit(xtrain, ytrain)\n",
    "predictions = classifier.predict_proba(xtest)\n",
    "roc_auc_score(ytest, predictions[:,1])"
   ]
  },
  {
   "cell_type": "code",
   "execution_count": 47,
   "metadata": {},
   "outputs": [
    {
     "name": "stdout",
     "output_type": "stream",
     "text": [
      "[1]\tvalid_0's auc: 0.726174\n",
      "Training until validation scores don't improve for 20 rounds\n",
      "[2]\tvalid_0's auc: 0.769021\n",
      "[3]\tvalid_0's auc: 0.790313\n",
      "[4]\tvalid_0's auc: 0.805087\n",
      "[5]\tvalid_0's auc: 0.814897\n",
      "[6]\tvalid_0's auc: 0.824414\n",
      "[7]\tvalid_0's auc: 0.829259\n",
      "[8]\tvalid_0's auc: 0.835931\n",
      "[9]\tvalid_0's auc: 0.840983\n",
      "[10]\tvalid_0's auc: 0.845668\n",
      "[11]\tvalid_0's auc: 0.850604\n",
      "[12]\tvalid_0's auc: 0.854409\n",
      "[13]\tvalid_0's auc: 0.856402\n",
      "[14]\tvalid_0's auc: 0.856884\n",
      "[15]\tvalid_0's auc: 0.858523\n",
      "[16]\tvalid_0's auc: 0.862026\n",
      "[17]\tvalid_0's auc: 0.863562\n",
      "[18]\tvalid_0's auc: 0.864544\n",
      "[19]\tvalid_0's auc: 0.867736\n",
      "[20]\tvalid_0's auc: 0.868032\n",
      "[21]\tvalid_0's auc: 0.871753\n",
      "[22]\tvalid_0's auc: 0.874201\n",
      "[23]\tvalid_0's auc: 0.876726\n",
      "[24]\tvalid_0's auc: 0.880661\n",
      "[25]\tvalid_0's auc: 0.882768\n",
      "[26]\tvalid_0's auc: 0.885015\n",
      "[27]\tvalid_0's auc: 0.88771\n",
      "[28]\tvalid_0's auc: 0.89016\n",
      "[29]\tvalid_0's auc: 0.890693\n",
      "[30]\tvalid_0's auc: 0.89175\n",
      "[31]\tvalid_0's auc: 0.892816\n",
      "[32]\tvalid_0's auc: 0.894929\n",
      "[33]\tvalid_0's auc: 0.89656\n",
      "[34]\tvalid_0's auc: 0.897544\n",
      "[35]\tvalid_0's auc: 0.898208\n",
      "[36]\tvalid_0's auc: 0.899092\n",
      "[37]\tvalid_0's auc: 0.899806\n",
      "[38]\tvalid_0's auc: 0.900102\n",
      "[39]\tvalid_0's auc: 0.901125\n",
      "[40]\tvalid_0's auc: 0.901294\n",
      "[41]\tvalid_0's auc: 0.90176\n",
      "[42]\tvalid_0's auc: 0.903219\n",
      "[43]\tvalid_0's auc: 0.904015\n",
      "[44]\tvalid_0's auc: 0.903957\n",
      "[45]\tvalid_0's auc: 0.904642\n",
      "[46]\tvalid_0's auc: 0.905074\n",
      "[47]\tvalid_0's auc: 0.906013\n",
      "[48]\tvalid_0's auc: 0.906712\n",
      "[49]\tvalid_0's auc: 0.907862\n",
      "[50]\tvalid_0's auc: 0.908373\n",
      "[51]\tvalid_0's auc: 0.909091\n",
      "[52]\tvalid_0's auc: 0.909951\n",
      "[53]\tvalid_0's auc: 0.910104\n",
      "[54]\tvalid_0's auc: 0.910783\n",
      "[55]\tvalid_0's auc: 0.910114\n",
      "[56]\tvalid_0's auc: 0.910641\n",
      "[57]\tvalid_0's auc: 0.911298\n",
      "[58]\tvalid_0's auc: 0.911085\n",
      "[59]\tvalid_0's auc: 0.911473\n",
      "[60]\tvalid_0's auc: 0.911321\n",
      "[61]\tvalid_0's auc: 0.912467\n",
      "[62]\tvalid_0's auc: 0.912804\n",
      "[63]\tvalid_0's auc: 0.913326\n",
      "[64]\tvalid_0's auc: 0.913662\n",
      "[65]\tvalid_0's auc: 0.914151\n",
      "[66]\tvalid_0's auc: 0.914509\n",
      "[67]\tvalid_0's auc: 0.914942\n",
      "[68]\tvalid_0's auc: 0.914925\n",
      "[69]\tvalid_0's auc: 0.91513\n",
      "[70]\tvalid_0's auc: 0.915736\n",
      "[71]\tvalid_0's auc: 0.915981\n",
      "[72]\tvalid_0's auc: 0.916665\n",
      "[73]\tvalid_0's auc: 0.917081\n",
      "[74]\tvalid_0's auc: 0.916688\n",
      "[75]\tvalid_0's auc: 0.916783\n",
      "[76]\tvalid_0's auc: 0.91665\n",
      "[77]\tvalid_0's auc: 0.917057\n",
      "[78]\tvalid_0's auc: 0.916815\n",
      "[79]\tvalid_0's auc: 0.917085\n",
      "[80]\tvalid_0's auc: 0.917208\n",
      "[81]\tvalid_0's auc: 0.917143\n",
      "[82]\tvalid_0's auc: 0.916538\n",
      "[83]\tvalid_0's auc: 0.916101\n",
      "[84]\tvalid_0's auc: 0.916357\n",
      "[85]\tvalid_0's auc: 0.916441\n",
      "[86]\tvalid_0's auc: 0.916591\n",
      "[87]\tvalid_0's auc: 0.916863\n",
      "[88]\tvalid_0's auc: 0.917208\n",
      "[89]\tvalid_0's auc: 0.917175\n",
      "[90]\tvalid_0's auc: 0.91748\n",
      "[91]\tvalid_0's auc: 0.918021\n",
      "[92]\tvalid_0's auc: 0.917759\n",
      "[93]\tvalid_0's auc: 0.917598\n",
      "[94]\tvalid_0's auc: 0.917951\n",
      "[95]\tvalid_0's auc: 0.917633\n",
      "[96]\tvalid_0's auc: 0.917344\n",
      "[97]\tvalid_0's auc: 0.917683\n",
      "[98]\tvalid_0's auc: 0.91776\n",
      "[99]\tvalid_0's auc: 0.917944\n",
      "[100]\tvalid_0's auc: 0.917883\n",
      "[101]\tvalid_0's auc: 0.918069\n",
      "[102]\tvalid_0's auc: 0.918557\n",
      "[103]\tvalid_0's auc: 0.918861\n",
      "[104]\tvalid_0's auc: 0.918633\n",
      "[105]\tvalid_0's auc: 0.91895\n",
      "[106]\tvalid_0's auc: 0.918661\n",
      "[107]\tvalid_0's auc: 0.919033\n",
      "[108]\tvalid_0's auc: 0.91967\n",
      "[109]\tvalid_0's auc: 0.920075\n",
      "[110]\tvalid_0's auc: 0.920062\n",
      "[111]\tvalid_0's auc: 0.920673\n",
      "[112]\tvalid_0's auc: 0.920557\n",
      "[113]\tvalid_0's auc: 0.92053\n",
      "[114]\tvalid_0's auc: 0.920421\n",
      "[115]\tvalid_0's auc: 0.920169\n",
      "[116]\tvalid_0's auc: 0.920363\n",
      "[117]\tvalid_0's auc: 0.920215\n",
      "[118]\tvalid_0's auc: 0.920683\n",
      "[119]\tvalid_0's auc: 0.920522\n",
      "[120]\tvalid_0's auc: 0.920714\n",
      "[121]\tvalid_0's auc: 0.920946\n",
      "[122]\tvalid_0's auc: 0.921159\n",
      "[123]\tvalid_0's auc: 0.921171\n",
      "[124]\tvalid_0's auc: 0.921348\n",
      "[125]\tvalid_0's auc: 0.921515\n",
      "[126]\tvalid_0's auc: 0.921307\n",
      "[127]\tvalid_0's auc: 0.92152\n",
      "[128]\tvalid_0's auc: 0.921651\n",
      "[129]\tvalid_0's auc: 0.921905\n",
      "[130]\tvalid_0's auc: 0.921692\n",
      "[131]\tvalid_0's auc: 0.921927\n",
      "[132]\tvalid_0's auc: 0.921714\n",
      "[133]\tvalid_0's auc: 0.92147\n",
      "[134]\tvalid_0's auc: 0.921067\n",
      "[135]\tvalid_0's auc: 0.920553\n",
      "[136]\tvalid_0's auc: 0.920673\n",
      "[137]\tvalid_0's auc: 0.920585\n",
      "[138]\tvalid_0's auc: 0.920456\n",
      "[139]\tvalid_0's auc: 0.920324\n",
      "[140]\tvalid_0's auc: 0.920134\n",
      "[141]\tvalid_0's auc: 0.920452\n",
      "[142]\tvalid_0's auc: 0.920535\n",
      "[143]\tvalid_0's auc: 0.920781\n",
      "[144]\tvalid_0's auc: 0.92106\n",
      "[145]\tvalid_0's auc: 0.921122\n",
      "[146]\tvalid_0's auc: 0.921445\n",
      "[147]\tvalid_0's auc: 0.921554\n",
      "[148]\tvalid_0's auc: 0.921706\n",
      "[149]\tvalid_0's auc: 0.92158\n",
      "[150]\tvalid_0's auc: 0.921598\n",
      "[151]\tvalid_0's auc: 0.921677\n",
      "Early stopping, best iteration is:\n",
      "[131]\tvalid_0's auc: 0.921927\n"
     ]
    }
   ],
   "source": [
    "import lightgbm as lgbm\n",
    "ytrain = pd.to_numeric(ytrain, errors='coerce')\n",
    "ytest = pd.to_numeric(ytest, errors='coerce')\n",
    "train_data = lgbm.Dataset(xtrain, ytrain)\n",
    "test_data = lgbm.Dataset(xtest, ytest)\n",
    "# define parameters\n",
    "parameters = {\n",
    "    'objective': 'binary',\n",
    "    'metric': 'auc',\n",
    "    'is_unbalance': 'true',\n",
    "    'feature_fraction': 0.5,\n",
    "    'bagging_fraction': 0.5,\n",
    "    'bagging_freq': 20,\n",
    "    'num_threads' : 2,\n",
    "    'seed' : 76\n",
    "}\n",
    "# train lightGBM model\n",
    "model = lgbm.train(parameters,\n",
    "                   train_data,\n",
    "                   valid_sets=test_data,\n",
    "                   num_boost_round=1000,\n",
    "                   early_stopping_rounds=20)"
   ]
  }
 ],
 "metadata": {
  "kernelspec": {
   "display_name": "Python 3",
   "language": "python",
   "name": "python3"
  },
  "language_info": {
   "codemirror_mode": {
    "name": "ipython",
    "version": 3
   },
   "file_extension": ".py",
   "mimetype": "text/x-python",
   "name": "python",
   "nbconvert_exporter": "python",
   "pygments_lexer": "ipython3",
   "version": "3.6.9"
  }
 },
 "nbformat": 4,
 "nbformat_minor": 4
}
